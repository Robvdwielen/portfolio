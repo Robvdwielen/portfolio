{
 "cells": [
  {
   "cell_type": "code",
   "execution_count": 3,
   "id": "dd35703e",
   "metadata": {},
   "outputs": [
    {
     "name": "stdout",
     "output_type": "stream",
     "text": [
      "Data saved to newyork_restaurants.csv\n"
     ]
    }
   ],
   "source": [
    "import requests\n",
    "import csv\n",
    "import json\n",
    "\n",
    "# Define the API endpoint and query\n",
    "url = \"http://overpass-api.de/api/interpreter\"\n",
    "query = {\n",
    "    \"data\": \"[out:json];node[amenity=restaurant](40.4774,-74.2591,40.9176,-73.7004);out;\"\n",
    "}\n",
    "\n",
    "# Make the API call\n",
    "response = requests.get(url, params=query)\n",
    "data = response.json()\n",
    "\n",
    "# Extract nodes (restaurants) from the data\n",
    "nodes = data['elements']\n",
    "\n",
    "# Prepare CSV data\n",
    "csv_data = []\n",
    "for node in nodes:\n",
    "    if 'tags' in node and 'name' in node['tags']:\n",
    "        csv_data.append([node['id'], node['lat'], node['lon'], node['tags']['name']])\n",
    "\n",
    "# Write to CSV file\n",
    "with open('newyork_restaurants.csv', 'w', newline='', encoding='utf-8') as file:\n",
    "    writer = csv.writer(file)\n",
    "    writer.writerow(['ID', 'Latitude', 'Longitude', 'Name'])  # Header\n",
    "    writer.writerows(csv_data)\n",
    "\n",
    "\n",
    "print(\"Data saved to newyork_restaurants.csv\")\n"
   ]
  },
  {
   "cell_type": "code",
   "execution_count": 4,
   "id": "f3eb225a",
   "metadata": {},
   "outputs": [
    {
     "name": "stdout",
     "output_type": "stream",
     "text": [
      "Data saved to newyork_universities.csv\n"
     ]
    }
   ],
   "source": [
    "import requests\n",
    "import csv\n",
    "import json\n",
    "\n",
    "# Define the API endpoint and query\n",
    "url = \"http://overpass-api.de/api/interpreter\"\n",
    "# New York bounding box: (40.4774,-74.2591,40.9176,-73.7004)\n",
    "query = {\n",
    "    \"data\": \"[out:json];(node[amenity=university](40.4774,-74.2591,40.9176,-73.7004);way[amenity=university](40.4774,-74.2591,40.9176,-73.7004);relation[amenity=university](40.4774,-74.2591,40.9176,-73.7004););out center;\"\n",
    "}\n",
    "\n",
    "# Make the API call\n",
    "response = requests.get(url, params=query)\n",
    "data = response.json()\n",
    "\n",
    "# Extract elements (universities) from the data\n",
    "elements = data['elements']\n",
    "\n",
    "# Prepare CSV data\n",
    "csv_data = []\n",
    "for element in elements:\n",
    "    # The 'center' key provides a central point for ways and relations\n",
    "    lat = element['center']['lat'] if 'center' in element else element['lat']\n",
    "    lon = element['center']['lon'] if 'center' in element else element['lon']\n",
    "    name = element['tags']['name'] if 'tags' in element and 'name' in element['tags'] else \"Unknown\"\n",
    "    csv_data.append([element['id'], lat, lon, name])\n",
    "\n",
    "# Write to CSV file\n",
    "with open('newyork_universities.csv', 'w', newline='', encoding='utf-8') as file:\n",
    "    writer = csv.writer(file)\n",
    "    writer.writerow(['ID', 'Latitude', 'Longitude', 'Name'])  # Header\n",
    "    writer.writerows(csv_data)\n",
    "\n",
    "print(\"Data saved to newyork_universities.csv\")\n"
   ]
  },
  {
   "cell_type": "code",
   "execution_count": 5,
   "id": "7eceabd6",
   "metadata": {},
   "outputs": [
    {
     "name": "stdout",
     "output_type": "stream",
     "text": [
      "Data saved to newyork_parks.csv\n"
     ]
    }
   ],
   "source": [
    "import requests\n",
    "import csv\n",
    "import json\n",
    "\n",
    "# Define the API endpoint and query\n",
    "url = \"http://overpass-api.de/api/interpreter\"\n",
    "# New York bounding box: (40.4774,-74.2591,40.9176,-73.7004)\n",
    "query = {\n",
    "    \"data\": \"[out:json];(node[leisure=park](40.4774,-74.2591,40.9176,-73.7004);way[leisure=park](40.4774,-74.2591,40.9176,-73.7004);relation[leisure=park](40.4774,-74.2591,40.9176,-73.7004););out center;\"\n",
    "}\n",
    "\n",
    "# Make the API call\n",
    "response = requests.get(url, params=query)\n",
    "data = response.json()\n",
    "\n",
    "# Extract elements (parks) from the data\n",
    "elements = data['elements']\n",
    "\n",
    "# Prepare CSV data\n",
    "csv_data = []\n",
    "for element in elements:\n",
    "    # The 'center' key provides a central point for ways and relations\n",
    "    lat = element['center']['lat'] if 'center' in element else element['lat']\n",
    "    lon = element['center']['lon'] if 'center' in element else element['lon']\n",
    "    name = element['tags']['name'] if 'tags' in element and 'name' in element['tags'] else \"Unknown\"\n",
    "    csv_data.append([element['id'], lat, lon, name])\n",
    "\n",
    "# Write to CSV file\n",
    "with open('newyork_parks.csv', 'w', newline='', encoding='utf-8') as file:\n",
    "    writer = csv.writer(file)\n",
    "    writer.writerow(['ID', 'Latitude', 'Longitude', 'Name'])  # Header\n",
    "    writer.writerows(csv_data)\n",
    "\n",
    "print(\"Data saved to newyork_parks.csv\")\n"
   ]
  },
  {
   "cell_type": "code",
   "execution_count": 6,
   "id": "11e16a09",
   "metadata": {},
   "outputs": [
    {
     "name": "stdout",
     "output_type": "stream",
     "text": [
      "Data saved to newyork_bus_stations.csv\n"
     ]
    }
   ],
   "source": [
    "import requests\n",
    "import csv\n",
    "import json\n",
    "\n",
    "# Define the API endpoint and query\n",
    "url = \"http://overpass-api.de/api/interpreter\"\n",
    "# New York bounding box: (40.4774,-74.2591,40.9176,-73.7004)\n",
    "query = {\n",
    "    \"data\": \"[out:json];(node[amenity=bus_station](40.4774,-74.2591,40.9176,-73.7004);way[amenity=bus_station](40.4774,-74.2591,40.9176,-73.7004);relation[amenity=bus_station](40.4774,-74.2591,40.9176,-73.7004););out center;\"\n",
    "}\n",
    "\n",
    "# Make the API call\n",
    "response = requests.get(url, params=query)\n",
    "data = response.json()\n",
    "\n",
    "# Extract elements (bus stations) from the data\n",
    "elements = data['elements']\n",
    "\n",
    "# Prepare CSV data\n",
    "csv_data = []\n",
    "for element in elements:\n",
    "    # The 'center' key provides a central point for ways and relations\n",
    "    lat = element['center']['lat'] if 'center' in element else element['lat']\n",
    "    lon = element['center']['lon'] if 'center' in element else element['lon']\n",
    "    name = element['tags']['name'] if 'tags' in element and 'name' in element['tags'] else \"Unknown\"\n",
    "    csv_data.append([element['id'], lat, lon, name])\n",
    "\n",
    "# Write to CSV file\n",
    "with open('newyork_bus_stations.csv', 'w', newline='', encoding='utf-8') as file:\n",
    "    writer = csv.writer(file)\n",
    "    writer.writerow(['ID', 'Latitude', 'Longitude', 'Name'])  # Header\n",
    "    writer.writerows(csv_data)\n",
    "\n",
    "print(\"Data saved to newyork_bus_stations.csv\")\n"
   ]
  },
  {
   "cell_type": "code",
   "execution_count": 16,
   "id": "cf2bee16",
   "metadata": {},
   "outputs": [
    {
     "name": "stdout",
     "output_type": "stream",
     "text": [
      "Data saved to newyork_metro_stations.csv\n"
     ]
    }
   ],
   "source": [
    "import requests\n",
    "import csv\n",
    "import json\n",
    "\n",
    "# Define the API endpoint and query\n",
    "url = \"http://overpass-api.de/api/interpreter\"\n",
    "# New York bounding box: (40.4774,-74.2591,40.9176,-73.7004)\n",
    "query = {\n",
    "    \"data\": \"[out:json];(node[railway=subway_station](40.4774,-74.2591,40.9176,-73.7004);way[railway=subway_station](40.4774,-74.2591,40.9176,-73.7004);relation[railway=subway_station](40.4774,-74.2591,40.9176,-73.7004););out center;\"\n",
    "}\n",
    "\n",
    "# Make the API call\n",
    "response = requests.get(url, params=query)\n",
    "data = response.json()\n",
    "\n",
    "# Extract elements (metro stations) from the data\n",
    "elements = data['elements']\n",
    "\n",
    "# Prepare CSV data\n",
    "csv_data = []\n",
    "for element in elements:\n",
    "    # The 'center' key provides a central point for ways and relations\n",
    "    lat = element['center']['lat'] if 'center' in element else element['lat']\n",
    "    lon = element['center']['lon'] if 'center' in element else element['lon']\n",
    "    name = element['tags']['name'] if 'tags' in element and 'name' in element['tags'] else \"Unknown\"\n",
    "    csv_data.append([element['id'], lat, lon, name])\n",
    "\n",
    "# Write to CSV file\n",
    "with open('newyork_metro_stations.csv', 'w', newline='', encoding='utf-8') as file:\n",
    "    writer = csv.writer(file)\n",
    "    writer.writerow(['ID', 'Latitude', 'Longitude', 'Name'])  # Header\n",
    "    writer.writerows(csv_data)\n",
    "\n",
    "print(\"Data saved to newyork_metro_stations.csv\")\n"
   ]
  },
  {
   "cell_type": "code",
   "execution_count": 7,
   "id": "c3c2241d",
   "metadata": {},
   "outputs": [
    {
     "name": "stdout",
     "output_type": "stream",
     "text": [
      "Data saved to newyork_rail_stations.csv\n"
     ]
    }
   ],
   "source": [
    "import requests\n",
    "import csv\n",
    "import json\n",
    "\n",
    "# Define the API endpoint and query\n",
    "url = \"http://overpass-api.de/api/interpreter\"\n",
    "# New York bounding box: (40.4774,-74.2591,40.9176,-73.7004)\n",
    "query = {\n",
    "    \"data\": \"[out:json];(node[railway=station](40.4774,-74.2591,40.9176,-73.7004);way[railway=station](40.4774,-74.2591,40.9176,-73.7004);relation[railway=station](40.4774,-74.2591,40.9176,-73.7004););out center;\"\n",
    "}\n",
    "\n",
    "# Make the API call\n",
    "response = requests.get(url, params=query)\n",
    "data = response.json()\n",
    "\n",
    "# Extract elements (rail stations) from the data\n",
    "elements = data['elements']\n",
    "\n",
    "# Prepare CSV data\n",
    "csv_data = []\n",
    "for element in elements:\n",
    "    # The 'center' key provides a central point for ways and relations\n",
    "    lat = element['center']['lat'] if 'center' in element else element['lat']\n",
    "    lon = element['center']['lon'] if 'center' in element else element['lon']\n",
    "    name = element['tags']['name'] if 'tags' in element and 'name' in element['tags'] else \"Unknown\"\n",
    "    csv_data.append([element['id'], lat, lon, name])\n",
    "\n",
    "# Write to CSV file\n",
    "with open('newyork_rail_stations.csv', 'w', newline='', encoding='utf-8') as file:\n",
    "    writer = csv.writer(file)\n",
    "    writer.writerow(['ID', 'Latitude', 'Longitude', 'Name'])  # Header\n",
    "    writer.writerows(csv_data)\n",
    "\n",
    "print(\"Data saved to newyork_rail_stations.csv\")\n"
   ]
  },
  {
   "cell_type": "code",
   "execution_count": 9,
   "id": "3bbe5b61",
   "metadata": {},
   "outputs": [
    {
     "name": "stdout",
     "output_type": "stream",
     "text": [
      "Data saved to newyork_shops.csv\n"
     ]
    }
   ],
   "source": [
    "import requests\n",
    "import csv\n",
    "import json\n",
    "\n",
    "# Define the API endpoint and query\n",
    "url = \"http://overpass-api.de/api/interpreter\"\n",
    "# New York bounding box: (40.4774,-74.2591,40.9176,-73.7004)\n",
    "query = {\n",
    "    \"data\": \"[out:json];(node[shop](40.4774,-74.2591,40.9176,-73.7004);way[shop](40.4774,-74.2591,40.9176,-73.7004);relation[shop](40.4774,-74.2591,40.9176,-73.7004););out center;\"\n",
    "}\n",
    "\n",
    "# Make the API call\n",
    "response = requests.get(url, params=query)\n",
    "data = response.json()\n",
    "\n",
    "# Extract elements (shops/stores) from the data\n",
    "elements = data['elements']\n",
    "\n",
    "# Prepare CSV data\n",
    "csv_data = []\n",
    "for element in elements:\n",
    "    # The 'center' key provides a central point for ways and relations\n",
    "    lat = element['center']['lat'] if 'center' in element else element['lat']\n",
    "    lon = element['center']['lon'] if 'center' in element else element['lon']\n",
    "    name = element['tags']['name'] if 'tags' in element and 'name' in element['tags'] else \"Unknown\"\n",
    "    shop_type = element['tags']['shop'] if 'tags' in element and 'shop' in element['tags'] else \"Unknown\"\n",
    "    csv_data.append([element['id'], lat, lon, name, shop_type])\n",
    "\n",
    "# Write to CSV file\n",
    "with open('newyork_shops.csv', 'w', newline='', encoding='utf-8') as file:\n",
    "    writer = csv.writer(file)\n",
    "    writer.writerow(['ID', 'Latitude', 'Longitude', 'Name', 'Shop Type'])  # Header\n",
    "    writer.writerows(csv_data)\n",
    "\n",
    "print(\"Data saved to newyork_shops.csv\")\n"
   ]
  },
  {
   "cell_type": "code",
   "execution_count": 10,
   "id": "bda7a39b",
   "metadata": {},
   "outputs": [
    {
     "name": "stdout",
     "output_type": "stream",
     "text": [
      "Data saved to newyork_businesses.csv\n"
     ]
    }
   ],
   "source": [
    "import requests\n",
    "import csv\n",
    "import json\n",
    "\n",
    "# Define the API endpoint and query\n",
    "url = \"http://overpass-api.de/api/interpreter\"\n",
    "# New York bounding box: (40.4774,-74.2591,40.9176,-73.7004)\n",
    "query = {\n",
    "    \"data\": \"[out:json];(node[office](40.4774,-74.2591,40.9176,-73.7004);way[office](40.4774,-74.2591,40.9176,-73.7004);relation[office](40.4774,-74.2591,40.9176,-73.7004););out center;\"\n",
    "}\n",
    "\n",
    "# Make the API call\n",
    "response = requests.get(url, params=query)\n",
    "data = response.json()\n",
    "\n",
    "# Extract elements (business/office locations) from the data\n",
    "elements = data['elements']\n",
    "\n",
    "# Prepare CSV data\n",
    "csv_data = []\n",
    "for element in elements:\n",
    "    # The 'center' key provides a central point for ways and relations\n",
    "    lat = element['center']['lat'] if 'center' in element else element['lat']\n",
    "    lon = element['center']['lon'] if 'center' in element else element['lon']\n",
    "    name = element['tags']['name'] if 'tags' in element and 'name' in element['tags'] else \"Unknown\"\n",
    "    office_type = element['tags']['office'] if 'tags' in element and 'office' in element['tags'] else \"Unknown\"\n",
    "    csv_data.append([element['id'], lat, lon, name, office_type])\n",
    "\n",
    "# Write to CSV file\n",
    "with open('newyork_businesses.csv', 'w', newline='', encoding='utf-8') as file:\n",
    "    writer = csv.writer(file)\n",
    "    writer.writerow(['ID', 'Latitude', 'Longitude', 'Name', 'Business Type'])  # Header\n",
    "    writer.writerows(csv_data)\n",
    "\n",
    "print(\"Data saved to newyork_businesses.csv\")\n"
   ]
  },
  {
   "cell_type": "code",
   "execution_count": 11,
   "id": "ad13c844",
   "metadata": {},
   "outputs": [
    {
     "name": "stdout",
     "output_type": "stream",
     "text": [
      "Data saved to newyork_residential_areas.csv\n"
     ]
    }
   ],
   "source": [
    "import requests\n",
    "import csv\n",
    "import json\n",
    "\n",
    "# Define the API endpoint and query\n",
    "url = \"http://overpass-api.de/api/interpreter\"\n",
    "# New York bounding box: (40.4774,-74.2591,40.9176,-73.7004)\n",
    "query = {\n",
    "    \"data\": \"[out:json];(node[landuse=residential](40.4774,-74.2591,40.9176,-73.7004);way[landuse=residential](40.4774,-74.2591,40.9176,-73.7004);relation[landuse=residential](40.4774,-74.2591,40.9176,-73.7004););out center;\"\n",
    "}\n",
    "\n",
    "# Make the API call\n",
    "response = requests.get(url, params=query)\n",
    "data = response.json()\n",
    "\n",
    "# Extract elements (residential areas) from the data\n",
    "elements = data['elements']\n",
    "\n",
    "# Prepare CSV data\n",
    "csv_data = []\n",
    "for element in elements:\n",
    "    # The 'center' key provides a central point for ways and relations\n",
    "    lat = element['center']['lat'] if 'center' in element else element['lat']\n",
    "    lon = element['center']['lon'] if 'center' in element else element['lon']\n",
    "    name = element['tags']['name'] if 'tags' in element and 'name' in element['tags'] else \"Unknown\"\n",
    "    csv_data.append([element['id'], lat, lon, name])\n",
    "\n",
    "# Write to CSV file\n",
    "with open('newyork_residential_areas.csv', 'w', newline='', encoding='utf-8') as file:\n",
    "    writer = csv.writer(file)\n",
    "    writer.writerow(['ID', 'Latitude', 'Longitude', 'Name'])  # Header\n",
    "    writer.writerows(csv_data)\n",
    "\n",
    "print(\"Data saved to newyork_residential_areas.csv\")\n"
   ]
  },
  {
   "cell_type": "code",
   "execution_count": null,
   "id": "16b6814d",
   "metadata": {},
   "outputs": [],
   "source": []
  }
 ],
 "metadata": {
  "kernelspec": {
   "display_name": "Python 3 (ipykernel)",
   "language": "python",
   "name": "python3"
  },
  "language_info": {
   "codemirror_mode": {
    "name": "ipython",
    "version": 3
   },
   "file_extension": ".py",
   "mimetype": "text/x-python",
   "name": "python",
   "nbconvert_exporter": "python",
   "pygments_lexer": "ipython3",
   "version": "3.9.12"
  }
 },
 "nbformat": 4,
 "nbformat_minor": 5
}
